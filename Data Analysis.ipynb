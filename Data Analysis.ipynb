{
 "cells": [
  {
   "cell_type": "markdown",
   "metadata": {},
   "source": [
    "# Data Analysis"
   ]
  },
  {
   "cell_type": "markdown",
   "metadata": {},
   "source": [
    "## Setup\n",
    "### Import libraries"
   ]
  },
  {
   "cell_type": "code",
   "execution_count": null,
   "metadata": {},
   "outputs": [],
   "source": [
    "import pickle\n",
    "import numpy as np\n",
    "import matplotlib.pyplot as plt\n",
    "import wordlemodule\n",
    "from scipy.stats import pearsonr\n",
    "import pandas as pd\n",
    "import seaborn as sns"
   ]
  },
  {
   "cell_type": "markdown",
   "metadata": {},
   "source": [
    "### Open data from saved file and create a WordleModule object with it"
   ]
  },
  {
   "cell_type": "code",
   "execution_count": null,
   "metadata": {},
   "outputs": [],
   "source": [
    "# Open pickle file\n",
    "with open('Data/Script data/Imported_email_data_with_ints.pkl','rb') as file:\n",
    "    full_data = pickle.load(file)\n",
    "\n",
    "# Create custom wordle object with input data\n",
    "data = wordlemodule.WordleData(full_data)"
   ]
  },
  {
   "cell_type": "markdown",
   "metadata": {},
   "source": [
    "## Plots"
   ]
  },
  {
   "cell_type": "markdown",
   "metadata": {},
   "source": [
    "### Histogram of average solve score"
   ]
  },
  {
   "cell_type": "code",
   "execution_count": null,
   "metadata": {},
   "outputs": [],
   "source": [
    "hist_solve_score = plt.figure(1)\n",
    "ax = hist_solve_score.subplots()\n",
    "\n",
    "ax.hist(data.data_arr, bins=np.arange(0.5,8.5,1))\n",
    "\n",
    "ax.set_ylabel('Number of occurences')\n",
    "ax.set_xlabel('Number of guesses')\n",
    "ax.set_xticklabels(['','1','2','3','4','5','6','Unsolved'])\n",
    "ax.set_title('Histogram of Wordle solve score')\n",
    "ax.legend(data.data_dict.keys())"
   ]
  },
  {
   "cell_type": "markdown",
   "metadata": {},
   "source": [
    "### Solve score over time"
   ]
  },
  {
   "cell_type": "markdown",
   "metadata": {},
   "source": [
    "To calculate "
   ]
  },
  {
   "cell_type": "code",
   "execution_count": null,
   "metadata": {},
   "outputs": [],
   "source": [
    "# Set up pandas dataframe with rolling average\n",
    "df = data.rolling(20)\n",
    "\n",
    "\n",
    "# Plot scatterplot for solve score over time\n",
    "score_over_time = plt.figure(2)\n",
    "\n",
    "fig, ax = plt.subplots()\n",
    "plot = df.plot(title=\"Score over time (rolling average)\",\n",
    "               subplots=False,\n",
    "               ax=ax, \n",
    "               sharey=True, \n",
    "               sharex=True,\n",
    "               ylim=[0,6], \n",
    "               yticks=range(1,7,1))\n",
    "\n",
    "#for myax in plot:\n",
    "#    myax.legend(bbox_to_anchor=(1.05, 1), loc='upper left')\n",
    "\n",
    "#fig.tight_layout()\n",
    "fig.supylabel('Solve score')\n",
    "fig.supxlabel('Puzzle number')"
   ]
  },
  {
   "cell_type": "markdown",
   "metadata": {},
   "source": [
    "### Solve score over time (heatmap)\n"
   ]
  },
  {
   "cell_type": "code",
   "execution_count": null,
   "metadata": {},
   "outputs": [],
   "source": [
    "# Set up pandas dataframe with rolling average\n",
    "df = data.rolling(20)\n",
    "\n",
    "# Plot\n",
    "ax = sns.heatmap(df.transpose(),\n",
    "                 cmap='turbo',\n",
    "                 vmin=0,\n",
    "                 vmax=6)\n",
    "ax.set(title='Solve score over time',\n",
    "       xlabel='Puzzle number')"
   ]
  },
  {
   "cell_type": "markdown",
   "metadata": {},
   "source": [
    "### By week-day\n",
    "Does solve score depened on the day of the week? For example, people may have more time to think about guesses on weekends, and therefore have higher scores on weekends as compared to weekdays.\n",
    "\n",
    "However, "
   ]
  },
  {
   "cell_type": "code",
   "execution_count": null,
   "metadata": {},
   "outputs": [],
   "source": [
    "# Use the Wordle object functions to return \n",
    "df_weekly_sum, df_weekly_score = data.weekly()\n",
    "\n",
    "# Create figure and axes for subplots\n",
    "f, myax = plt.subplots(2, 3)\n",
    "f.set_figwidth(18)\n",
    "f.set_figheight(10)\n",
    "#f.suptitle('Number of puzzles attempted by weekday')\n",
    "\n",
    "# Subplot column 0: number/score of puzzles attempted\n",
    "df_weekly_sum.plot.bar(ylabel='Mean number of puzzles attempted',\n",
    "                       xlabel='',\n",
    "                       rot=45,\n",
    "                       ax=myax[0,0])\n",
    "df_weekly_score.plot.bar(ylabel='Mean score of puzzles attempted',\n",
    "                       xlabel='',\n",
    "                       rot=45,\n",
    "                       ax=myax[1,0])\n",
    "\n",
    "# Add a weekday and weekend variable and change to long-form data\n",
    "df_weekly_sum['Day type'] = 'Weekday'\n",
    "df_weekly_score['Day type'] = 'Weekday'\n",
    "weekends = ['Sunday','Saturday']\n",
    "\n",
    "df_weekly_sum.loc[weekends,'Day type'] = 'Weekend'\n",
    "df_weekly_sum_long = pd.melt(df_weekly_sum, id_vars='Day type', var_name='Person', value_name='Value')\n",
    "\n",
    "\n",
    "df_weekly_score.loc[weekends,'Day type'] = 'Weekend'\n",
    "df_weekly_score_long = pd.melt(df_weekly_score, id_vars='Day type', var_name='Person', value_name='Value')\n",
    "\n",
    "# Subplot column 1: number/score of puzzles attempted, by weekend and weekday and by person\n",
    "sns.barplot(df_weekly_sum_long,\n",
    "            x = 'Person',\n",
    "            y = 'Value',\n",
    "            hue = 'Day type',\n",
    "            legend=True,\n",
    "            ax=myax[0,1])\n",
    "myax[0,1].set(ylabel = '',xlabel='')\n",
    "\n",
    "sns.barplot(df_weekly_score_long,\n",
    "            x = 'Person',\n",
    "            y = 'Value',\n",
    "            hue = 'Day type',\n",
    "            legend=True,\n",
    "            ax=myax[1,1])\n",
    "myax[1,1].set(ylabel = '',xlabel='')\n",
    "\n",
    "# Subplot column 2: number/score of puzzles attempted, by weekend and weekday\n",
    "sns.barplot(df_weekly_sum_long,\n",
    "            x = 'Day type',\n",
    "            y = 'Value',\n",
    "            legend=True,\n",
    "            ax=myax[0,2])\n",
    "myax[0,2].set(ylabel = '',xlabel='')\n",
    "\n",
    "sns.barplot(df_weekly_score_long,\n",
    "            x = 'Day type',\n",
    "            y = 'Value',\n",
    "            legend=True,\n",
    "            ax=myax[1,2])\n",
    "myax[1,2].set(ylabel = '',xlabel='')"
   ]
  },
  {
   "cell_type": "markdown",
   "metadata": {},
   "source": [
    "### Longest streak (win and no play)"
   ]
  },
  {
   "cell_type": "code",
   "execution_count": null,
   "metadata": {},
   "outputs": [],
   "source": []
  },
  {
   "cell_type": "markdown",
   "metadata": {},
   "source": [
    "### Scatterplot\n",
    "- compare score of each game - are same words hard for everyone?\n",
    "Make regressions for each comparison to see who tracks the best"
   ]
  },
  {
   "cell_type": "code",
   "execution_count": null,
   "metadata": {},
   "outputs": [],
   "source": [
    "# Seaborn pairplot of each person's score compared to others\n",
    "df = pd.DataFrame(data.data_arr, columns=data.data_dict.keys())\n",
    "g = sns.pairplot(df,kind='reg')\n",
    "\n",
    "# Calculate Pearson's r-squared and t-test p-values\n",
    "\n",
    "#df_rsq, df_p = data.corr_pvals()\n",
    "\n",
    "#def corrfunc(x, y, ax=None, hue=None, **kws):\n",
    "#    temp = df.corr()\n",
    "#    ax = ax or plt.gca()\n",
    "#    ax.annotate(f'r-sqr = {temp:.2f}', xy=(.1, .9), xycoords=ax.transAxes)\n",
    "\n",
    "#g.map_lower(corrfunc)\n",
    "\n"
   ]
  },
  {
   "cell_type": "code",
   "execution_count": null,
   "metadata": {},
   "outputs": [],
   "source": [
    "df = pd.DataFrame(data.data_arr, columns=data.data_dict.keys())"
   ]
  },
  {
   "cell_type": "markdown",
   "metadata": {},
   "source": [
    "### Which letter slots are easiest to guess? Slot 1?"
   ]
  },
  {
   "cell_type": "markdown",
   "metadata": {},
   "source": [
    "### What are the most common letter patterns and their guess rates?"
   ]
  }
 ],
 "metadata": {
  "kernelspec": {
   "display_name": "Python 3",
   "language": "python",
   "name": "python3"
  },
  "language_info": {
   "codemirror_mode": {
    "name": "ipython",
    "version": 3
   },
   "file_extension": ".py",
   "mimetype": "text/x-python",
   "name": "python",
   "nbconvert_exporter": "python",
   "pygments_lexer": "ipython3",
   "version": "3.12.6"
  }
 },
 "nbformat": 4,
 "nbformat_minor": 2
}
